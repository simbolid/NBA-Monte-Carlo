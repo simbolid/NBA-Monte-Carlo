{
 "cells": [
  {
   "cell_type": "markdown",
   "metadata": {},
   "source": [
    "### Step 1: Getting Team Data\n",
    "\n",
    "Get 2024 season data from each team."
   ]
  },
  {
   "cell_type": "code",
   "execution_count": 4,
   "metadata": {},
   "outputs": [
    {
     "name": "stdout",
     "output_type": "stream",
     "text": [
      "      TEAM_ID          TEAM_NAME  GP   W   L  W_PCT   MIN   FGM   FGA  FG_PCT  \\\n",
      "0  1610612737      Atlanta Hawks  82  41  41  0.500  48.4  44.6  92.4   0.483   \n",
      "1  1610612738     Boston Celtics  82  57  25  0.695  48.7  42.2  88.8   0.475   \n",
      "2  1610612751      Brooklyn Nets  82  45  37  0.549  48.1  41.5  85.1   0.487   \n",
      "3  1610612766  Charlotte Hornets  82  27  55  0.329  48.4  41.3  90.4   0.457   \n",
      "4  1610612741      Chicago Bulls  82  40  42  0.488  48.5  42.5  86.8   0.490   \n",
      "\n",
      "   ...  REB_RANK  AST_RANK  TOV_RANK  STL_RANK  BLK_RANK  BLKA_RANK  PF_RANK  \\\n",
      "0  ...        10        18         3        18        12         21        6   \n",
      "1  ...         7         7         7        27         6          4        7   \n",
      "2  ...        29        13        14        16         1          3       25   \n",
      "3  ...         9        17        17         9         8         29       17   \n",
      "4  ...        22        20         8         7        19         18        8   \n",
      "\n",
      "   PFD_RANK  PTS_RANK  PLUS_MINUS_RANK  \n",
      "0        19         3               18  \n",
      "1        25         4                1  \n",
      "2        28        20               15  \n",
      "3        13        27               27  \n",
      "4        27        22               13  \n",
      "\n",
      "[5 rows x 54 columns]\n"
     ]
    }
   ],
   "source": [
    "from nba_api.stats.static import teams\n",
    "from nba_api.stats.endpoints import leaguedashteamstats\n",
    "import pandas as pd\n",
    "\n",
    "# get_teams returns a list of 30 dictionaries, each an NBA team\n",
    "nba_teams = teams.get_teams()\n",
    "\n",
    "# fetch team statistics for the 2023-2024 season\n",
    "team_stats = leaguedashteamstats.LeagueDashTeamStats(season='2022-23', per_mode_detailed='PerGame')\n",
    "df_team_stats = team_stats.get_data_frames()[0]\n",
    "\n",
    "print(df_team_stats.head())"
   ]
  }
 ],
 "metadata": {
  "kernelspec": {
   "display_name": "Python 3",
   "language": "python",
   "name": "python3"
  },
  "language_info": {
   "codemirror_mode": {
    "name": "ipython",
    "version": 3
   },
   "file_extension": ".py",
   "mimetype": "text/x-python",
   "name": "python",
   "nbconvert_exporter": "python",
   "pygments_lexer": "ipython3",
   "version": "3.12.2"
  }
 },
 "nbformat": 4,
 "nbformat_minor": 2
}
